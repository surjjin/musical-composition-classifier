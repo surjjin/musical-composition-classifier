{
 "cells": [
  {
   "cell_type": "code",
   "execution_count": 17,
   "metadata": {},
   "outputs": [],
   "source": [
    "import tensorflow as tf\n",
    "import pandas as pd\n",
    "import numpy as np\n",
    "import os\n",
    "import tensorflow as tf\n",
    "import csv\n",
    "import keras\n",
    "from keras.layers import Dense, Flatten, Dropout\n",
    "from keras.layers import Conv2D, MaxPooling2D\n",
    "from keras.models import Sequential\n",
    "import matplotlib.pylab as plt\n",
    "from __future__ import print_function"
   ]
  },
  {
   "cell_type": "code",
   "execution_count": 2,
   "metadata": {},
   "outputs": [],
   "source": [
    "threshold = 0.586366150792    "
   ]
  },
  {
   "cell_type": "code",
   "execution_count": 3,
   "metadata": {},
   "outputs": [
    {
     "name": "stdout",
     "output_type": "stream",
     "text": [
      "100\n",
      "200\n",
      "300\n",
      "400\n",
      "500\n",
      "600\n",
      "700\n",
      "800\n",
      "900\n",
      "1000\n",
      "1100\n",
      "1200\n",
      "1300\n",
      "1400\n",
      "1500\n",
      "1600\n",
      "1700\n",
      "1800\n",
      "1900\n",
      "2000\n",
      "2100\n",
      "2200\n",
      "2300\n",
      "2400\n",
      "2500\n",
      "2600\n",
      "2700\n",
      "2800\n",
      "2900\n",
      "3000\n",
      "3100\n",
      "3200\n",
      "3300\n",
      "3400\n",
      "3500\n",
      "3600\n",
      "3700\n",
      "3800\n",
      "3900\n",
      "4000\n",
      "4100\n",
      "4200\n",
      "done\n"
     ]
    }
   ],
   "source": [
    "#print(os.listdir('D:\\study\\major project\\scl\\preprocessed\\pitchdata'))\n",
    "max_row=0;\n",
    "name=\"\"\n",
    "pitch=\"\"\n",
    "i=0;\n",
    "full_data=[]\n",
    "j=0;\n",
    "padding=[]\n",
    "location='D:\\study\\major project\\scl\\preprocessed\\pitchdata\\\\'\n",
    "paddf=pd.DataFrame({'st0':[0],'st1':[0],'st2':[0],'st3':[0],'st4':[0],'st5':[0],'st6':[0],'st7':[0],'st8':[0],'st9':[0],'st10':[0],'st11':[0],})\n",
    "for fname in os.listdir('D:\\study\\major project\\scl\\preprocessed\\pitchdata'):\n",
    "    data=pd.read_csv(location+fname);\n",
    "    length=len(data)\n",
    "    temp=np.asarray(data)\n",
    "    count=8420-length\n",
    "    p=[[0]*12]*count\n",
    "    padding=np.asarray(p)\n",
    "    temp=np.concatenate([temp,padding])\n",
    "    temp1=np.reshape(temp,12*8420)\n",
    "    full_data.append(temp1)\n",
    "    j=j+1\n",
    "    if j%100==0:\n",
    "        print(j)\n",
    "#print(len(full_data))\n",
    "print(\"done\")"
   ]
  },
  {
   "cell_type": "code",
   "execution_count": 4,
   "metadata": {},
   "outputs": [
    {
     "name": "stdout",
     "output_type": "stream",
     "text": [
      "4214\n"
     ]
    }
   ],
   "source": [
    "Y=[]\n",
    "pth1= 'D:\\\\study\\\\major project\\\\scl\\\\preprocessed\\\\pitchdata'\n",
    "pth2 = 'D:\\\\study\\\\major project\\\\scl\\\\preprocessed\\\\metadata'\n",
    "os.chdir(pth1)\n",
    "for fname in os.listdir():\n",
    "    with open(pth2+\"\\\\\"+fname, newline='') as csvf:\n",
    "        reader = csv.DictReader(csvf)\n",
    "        for row in reader:\n",
    "            if float(row['song_hotttnesss']) > threshold:\n",
    "                Y = np.append(Y, [1])\n",
    "            else:\n",
    "                Y = np.append(Y, [0])\n",
    "print(len(Y))                "
   ]
  },
  {
   "cell_type": "code",
   "execution_count": 5,
   "metadata": {},
   "outputs": [
    {
     "name": "stdout",
     "output_type": "stream",
     "text": [
      "[0, 1]\n"
     ]
    }
   ],
   "source": [
    "#print(temp1.shape[0])\n",
    "#no,yes\n",
    "temp_y=[]\n",
    "for l in Y:\n",
    "    p=[]\n",
    "    if l==1:\n",
    "        p=[0,1]\n",
    "    else:\n",
    "        p=[1,0]\n",
    "    temp_y.append(p)\n",
    "#print(temp_y)    \n",
    "Y=temp_y\n",
    "print(Y[0])"
   ]
  },
  {
   "cell_type": "code",
   "execution_count": 1,
   "metadata": {},
   "outputs": [
    {
     "ename": "NameError",
     "evalue": "name 'Y' is not defined",
     "output_type": "error",
     "traceback": [
      "\u001b[1;31m---------------------------------------------------------------------------\u001b[0m",
      "\u001b[1;31mNameError\u001b[0m                                 Traceback (most recent call last)",
      "\u001b[1;32m<ipython-input-1-cbc10a2491f1>\u001b[0m in \u001b[0;36m<module>\u001b[1;34m()\u001b[0m\n\u001b[0;32m      4\u001b[0m \u001b[0mY_test\u001b[0m\u001b[1;33m=\u001b[0m\u001b[1;33m[\u001b[0m\u001b[1;33m]\u001b[0m\u001b[1;33m\u001b[0m\u001b[0m\n\u001b[0;32m      5\u001b[0m \u001b[0mi\u001b[0m\u001b[1;33m=\u001b[0m\u001b[1;36m0\u001b[0m\u001b[1;33m\u001b[0m\u001b[0m\n\u001b[1;32m----> 6\u001b[1;33m \u001b[1;32mfor\u001b[0m \u001b[0mlabel\u001b[0m \u001b[1;32min\u001b[0m \u001b[0mY\u001b[0m\u001b[1;33m:\u001b[0m\u001b[1;33m\u001b[0m\u001b[0m\n\u001b[0m\u001b[0;32m      7\u001b[0m     \u001b[1;32mif\u001b[0m \u001b[0mi\u001b[0m\u001b[1;33m<\u001b[0m\u001b[1;36m3000\u001b[0m\u001b[1;33m:\u001b[0m\u001b[1;33m\u001b[0m\u001b[0m\n\u001b[0;32m      8\u001b[0m         \u001b[0mY_train\u001b[0m\u001b[1;33m.\u001b[0m\u001b[0mappend\u001b[0m\u001b[1;33m(\u001b[0m\u001b[0mlabel\u001b[0m\u001b[1;33m)\u001b[0m\u001b[1;33m\u001b[0m\u001b[0m\n",
      "\u001b[1;31mNameError\u001b[0m: name 'Y' is not defined"
     ]
    }
   ],
   "source": [
    "X_test=[]\n",
    "X_train=[]\n",
    "Y_train=[]\n",
    "Y_test=[]\n",
    "i=0\n",
    "for label in Y:\n",
    "    if i<3000:\n",
    "        Y_train.append(label)\n",
    "    else:\n",
    "        Y_test.append(label)\n",
    "    i+=1\n",
    "i=0\n",
    "for row in full_data:\n",
    "    if i<3000:\n",
    "        X_train.append(row)\n",
    "    else:\n",
    "        X_test.append(row)\n",
    "    i+=1   \n",
    "print(type(X_train))\n",
    "print(len(X_test))\n",
    "print(len(Y_train))\n",
    "print(len(Y_test))\n",
    "print(Y_train[0])\n",
    "print(Y_test[0])"
   ]
  },
  {
   "cell_type": "code",
   "execution_count": 7,
   "metadata": {},
   "outputs": [],
   "source": [
    "batch_size = 128\n",
    "num_classes = 2\n",
    "epochs = 10\n",
    "\n",
    "# input image dimensions\n",
    "\n",
    "img_x, img_y = 12, 8420\n"
   ]
  },
  {
   "cell_type": "code",
   "execution_count": 8,
   "metadata": {},
   "outputs": [],
   "source": [
    "#list to numpy array conversion\n",
    "x_train=np.asarray(X_train)\n",
    "x_test=np.asarray(X_test)\n",
    "y_train=np.asarray(Y_train)\n",
    "y_test=np.asarray(Y_test)\n",
    "x_train = x_train.reshape(x_train.shape[0], img_y, img_x,1)\n",
    "x_test = x_test.reshape(x_test.shape[0], img_y, img_x,1)\n",
    "input_shape = (img_y, img_x,1)"
   ]
  },
  {
   "cell_type": "code",
   "execution_count": 9,
   "metadata": {},
   "outputs": [
    {
     "name": "stdout",
     "output_type": "stream",
     "text": [
      "(3000, 8420, 12, 1)\n",
      "[[0 1]\n",
      " [0 1]\n",
      " [1 0]\n",
      " ...\n",
      " [1 0]\n",
      " [1 0]\n",
      " [1 0]]\n"
     ]
    }
   ],
   "source": [
    "print(x_train.shape)\n",
    "print(y_train)"
   ]
  },
  {
   "cell_type": "code",
   "execution_count": 19,
   "metadata": {},
   "outputs": [
    {
     "name": "stdout",
     "output_type": "stream",
     "text": [
      "(None, 8420, 1, 64)\n",
      "(None, 4210, 1, 64)\n",
      "(None, 4210, 1, 64)\n",
      "(None, 134720)\n",
      "(None, 1024)\n",
      "(None, 2)\n",
      "Train on 3000 samples, validate on 1214 samples\n",
      "Epoch 1/10\n",
      "3000/3000 [==============================] - 142s 47ms/step - loss: 0.8106 - acc: 0.6470 - val_loss: 0.5716 - val_acc: 0.7488\n",
      "Epoch 2/10\n",
      "3000/3000 [==============================] - 132s 44ms/step - loss: 0.5634 - acc: 0.7503 - val_loss: 0.5696 - val_acc: 0.7488\n",
      "Epoch 3/10\n",
      "3000/3000 [==============================] - 146s 49ms/step - loss: 0.5621 - acc: 0.7503 - val_loss: 0.5647 - val_acc: 0.7488\n",
      "Epoch 4/10\n",
      "3000/3000 [==============================] - 147s 49ms/step - loss: 0.5617 - acc: 0.7503 - val_loss: 0.5653 - val_acc: 0.7488\n",
      "Epoch 5/10\n",
      "3000/3000 [==============================] - 139s 46ms/step - loss: 0.5582 - acc: 0.7503 - val_loss: 0.5626 - val_acc: 0.7488\n",
      "Epoch 6/10\n",
      "3000/3000 [==============================] - 133s 44ms/step - loss: 0.5571 - acc: 0.7503 - val_loss: 0.5613 - val_acc: 0.7488\n",
      "Epoch 7/10\n",
      "3000/3000 [==============================] - 137s 46ms/step - loss: 0.5536 - acc: 0.7503 - val_loss: 0.5627 - val_acc: 0.7488\n",
      "Epoch 8/10\n",
      "3000/3000 [==============================] - 137s 46ms/step - loss: 0.5543 - acc: 0.7503 - val_loss: 0.5609 - val_acc: 0.7488\n",
      "Epoch 9/10\n",
      "3000/3000 [==============================] - 135s 45ms/step - loss: 0.5471 - acc: 0.7503 - val_loss: 0.5613 - val_acc: 0.7488\n",
      "Epoch 10/10\n",
      "3000/3000 [==============================] - 138s 46ms/step - loss: 0.5426 - acc: 0.7503 - val_loss: 0.5557 - val_acc: 0.7488\n",
      "Test loss: 0.5556655720588206\n",
      "Test accuracy: 0.7487644156474847\n"
     ]
    },
    {
     "data": {
      "image/png": "[encoded data removed]",
      "text/plain": [
       "<Figure size 432x288 with 1 Axes>"
      ]
     },
     "metadata": {},
     "output_type": "display_data"
    }
   ],
   "source": [
    "model = Sequential()\n",
    "model.add(Conv2D(64, kernel_size=(5, 12), strides=(1, 12),\n",
    "\n",
    "                 activation='relu',\n",
    "                 padding='same',\n",
    "\n",
    "                 input_shape=input_shape,\n",
    "                data_format='channels_last'))\n",
    "\n",
    "print(model.output_shape)\n",
    "model.add(MaxPooling2D(pool_size=(2,1),strides=(2,1)))\n",
    "print(model.output_shape)\n",
    "model.add(Conv2D(64, kernel_size=(3, 1), strides=(1, 1),\n",
    "\n",
    "                 activation='relu',\n",
    "                 padding='same',\n",
    "\n",
    "                 input_shape=input_shape,\n",
    "                data_format='channels_last'))\n",
    "\n",
    "print(model.output_shape)\n",
    "model.add(MaxPooling2D(pool_size=(2,1),strides=(2,1)))\n",
    "\n",
    "model.add(Flatten())\n",
    "print(model.output_shape)\n",
    "model.add(Dropout(0.2))\n",
    "model.add(Dense(1024, activation='relu'))\n",
    "print(model.output_shape)\n",
    "model.add(Dense(num_classes, activation='softmax'))\n",
    "print(model.output_shape)\n",
    "model.compile(loss=keras.losses.categorical_crossentropy,\n",
    "\n",
    "              optimizer=keras.optimizers.Adam(),\n",
    "\n",
    "              metrics=['accuracy'])\n",
    "\n",
    "\n",
    "\n",
    "\n",
    "\n",
    "class AccuracyHistory(keras.callbacks.Callback):\n",
    "\n",
    "    def on_train_begin(self, logs={}):\n",
    "\n",
    "        self.acc = []\n",
    "\n",
    "\n",
    "\n",
    "    def on_epoch_end(self, batch, logs={}):\n",
    "\n",
    "        self.acc.append(logs.get('acc'))\n",
    "\n",
    "\n",
    "\n",
    "history = AccuracyHistory()\n",
    "\n",
    "\n",
    "\n",
    "model.fit(x_train, y_train,\n",
    "\n",
    "          batch_size=batch_size,\n",
    "\n",
    "          epochs=epochs,\n",
    "\n",
    "          verbose=1,\n",
    "\n",
    "          validation_data=(x_test, y_test),\n",
    "\n",
    "          callbacks=[history])\n",
    "\n",
    "score = model.evaluate(x_test, y_test, verbose=0)\n",
    "\n",
    "print('Test loss:', score[0])\n",
    "\n",
    "print('Test accuracy:', score[1])\n",
    "\n",
    "plt.plot(range(1, 11), history.acc)\n",
    "\n",
    "plt.xlabel('Epochs')\n",
    "\n",
    "plt.ylabel('Accuracy')\n",
    "\n",
    "plt.show()    "
   ]
  },
  {
   "cell_type": "code",
   "execution_count": null,
   "metadata": {},
   "outputs": [],
   "source": []
  },
  {
   "cell_type": "code",
   "execution_count": null,
   "metadata": {},
   "outputs": [],
   "source": []
  }
 ],
 "metadata": {
  "kernelspec": {
   "display_name": "Python 3",
   "language": "python",
   "name": "python3"
  },
  "language_info": {
   "codemirror_mode": {
    "name": "ipython",
    "version": 3
   },
   "file_extension": ".py",
   "mimetype": "text/x-python",
   "name": "python",
   "nbconvert_exporter": "python",
   "pygments_lexer": "ipython3",
   "version": "3.5.1"
  }
 },
 "nbformat": 4,
 "nbformat_minor": 2
}
