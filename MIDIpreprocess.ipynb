{
 "cells": [
  {
   "cell_type": "code",
   "execution_count": 62,
   "metadata": {},
   "outputs": [],
   "source": [
    "from mido import MidiFile\n",
    "import os,sys\n",
    "import re\n",
    "#SURAJ PATH\n",
    "pth = \"D:\\study\\major project\\scl\\src\"\n",
    "os.chdir(pth)"
   ]
  },
  {
   "cell_type": "code",
   "execution_count": 12,
   "metadata": {},
   "outputs": [
    {
     "name": "stdout",
     "output_type": "stream",
     "text": [
      "5832\n"
     ]
    }
   ],
   "source": [
    "'''# Popuating a set of hitSongs\n",
    "hitSongs = set()\n",
    "def getHitSongs(src = \"src\\\\hitSongs.txt\", dest=\"hitSongs.txt\"):\n",
    "    with open(os.path.join(pth,src), \"rb\") as fp:\n",
    "        with open(os.path.join(pth,dest), \"w\") as fp1:\n",
    "            for line in fp.readlines():\n",
    "                fp1.write( line.decode()[:-1].lower() )\n",
    "                hitSongs.add( line.decode()[:-2].lower())\n",
    "getHitSongs()\n",
    "print(len(hitSongs))'''"
   ]
  },
  {
   "cell_type": "code",
   "execution_count": 13,
   "metadata": {},
   "outputs": [
    {
     "name": "stdout",
     "output_type": "stream",
     "text": [
      "936\n"
     ]
    }
   ],
   "source": [
    "'''# Matching songs in dataset with hitSongs\n",
    "songLabel = dict()\n",
    "def getSongLabels(src = \"raw\\\\clean_midi\"):\n",
    "    cwd = os.path.join(pth, src)\n",
    "    for folder in os.listdir(cwd):\n",
    "        for midi in os.listdir(os.path.join(cwd, folder)):\n",
    "            name = midi[:-4].strip().lower() \n",
    "            name = \"\".join(name.split(\".\")[:-1])\n",
    "            songLabel[name] = 1 if name in hitSongs else 0\n",
    "getSongLabels()\n",
    "with open(pth+\"\\\\\"+\"songLabel.txt\", \"w\") as fp:\n",
    "    for song in songLabel:\n",
    "        fp.write(\"{} {}\\n\".format(song, songLabel[song]))\n",
    "        \n",
    "print(sum([1 if songLabel[name]==1 else 0 for name in songLabel]))        \n",
    "'''        "
   ]
  },
  {
   "cell_type": "code",
   "execution_count": 17,
   "metadata": {},
   "outputs": [
    {
     "name": "stdout",
     "output_type": "stream",
     "text": [
      "c:\\users\\suraj jain\\appdata\\local\\programs\\python\\python35\\lib\\site-packages\n"
     ]
    }
   ],
   "source": [
    "#print( os.path.dirname(sys.argv[0]))"
   ]
  },
  {
   "cell_type": "code",
   "execution_count": 82,
   "metadata": {},
   "outputs": [
    {
     "name": "stdout",
     "output_type": "stream",
     "text": [
      "192.9999999999995\n",
      "32\n",
      "\t\n",
      "9\n",
      "40\n",
      "\t\n",
      "9\n",
      "32\n",
      "\t\n",
      "9\n",
      "40\n",
      "\t\n",
      "9\n",
      "32\n",
      "\t\n",
      "0\n",
      "0\n",
      "\t\n",
      "1\n",
      "65\n",
      "\t\n",
      "2\n",
      "65\n",
      "\t\n",
      "3\n",
      "73\n",
      "\t\n",
      "3\n",
      "65\n",
      "\t\n",
      "3\n",
      "73\n",
      "\t\n",
      "3\n",
      "65\n",
      "\t\n",
      "3\n",
      "66\n",
      "\t\n",
      "4\n",
      "66\n",
      "\t\n",
      "5\n",
      "67\n",
      "\t\n",
      "6\n",
      "56\n",
      "\t\n",
      "7\n",
      "59\n",
      "\t\n",
      "7\n",
      "56\n",
      "\t\n",
      "8\n",
      "59\n",
      "\t\n",
      "8\n",
      "56\n",
      "\t\n",
      "10\n",
      "59\n",
      "\t\n",
      "10\n",
      "56\n",
      "\t\n",
      "11\n",
      "59\n",
      "\t\n",
      "11\n",
      "57\n",
      "\t\n",
      "12\n",
      "57\n",
      "\t\n",
      "13\n",
      "57\n",
      "\t\n",
      "14\n",
      "57\n",
      "\t\n",
      "15\n",
      "13525\n",
      "27\n",
      "4653\n"
     ]
    }
   ],
   "source": [
    "feels = MidiFile('Have a Nice Day.mid')\n",
    "\n",
    "for i, track in enumerate(feels.tracks):\n",
    "    #print('Track{} : {}'.format(i, track.name))\n",
    "    for msg in track:\n",
    "        count+=1\n",
    "        #print(pc)\n",
    "        if msg.type=='program_change':\n",
    "            pc+=1\n",
    "            print(msg.program)\n",
    "            print(\"\\t\")\n",
    "            print(msg.channel)\n",
    "        if msg.type=='note_on':\n",
    "            np+=1\n",
    "            #print(msg.note)\n",
    "            \n",
    "print(count)            \n",
    "print(pc)\n",
    "print(np)\n"
   ]
  },
  {
   "cell_type": "code",
   "execution_count": 50,
   "metadata": {},
   "outputs": [
    {
     "ename": "TypeError",
     "evalue": "'MetaMessage' object is not iterable",
     "output_type": "error",
     "traceback": [
      "\u001b[1;31m---------------------------------------------------------------------------\u001b[0m",
      "\u001b[1;31mTypeError\u001b[0m                                 Traceback (most recent call last)",
      "\u001b[1;32m<ipython-input-50-44e3a978e9ae>\u001b[0m in \u001b[0;36m<module>\u001b[1;34m()\u001b[0m\n\u001b[0;32m      1\u001b[0m \u001b[0mfeels\u001b[0m \u001b[1;33m=\u001b[0m \u001b[0mMidiFile\u001b[0m\u001b[1;33m(\u001b[0m\u001b[1;34m'Have a Nice Day.mid'\u001b[0m\u001b[1;33m)\u001b[0m\u001b[1;33m\u001b[0m\u001b[0m\n\u001b[0;32m      2\u001b[0m \u001b[1;32mfor\u001b[0m \u001b[0mtrack\u001b[0m \u001b[1;32min\u001b[0m \u001b[0mfeels\u001b[0m\u001b[1;33m:\u001b[0m\u001b[1;33m\u001b[0m\u001b[0m\n\u001b[1;32m----> 3\u001b[1;33m     \u001b[1;32mfor\u001b[0m \u001b[0mi\u001b[0m \u001b[1;32min\u001b[0m \u001b[0mtrack\u001b[0m\u001b[1;33m:\u001b[0m\u001b[1;33m\u001b[0m\u001b[0m\n\u001b[0m\u001b[0;32m      4\u001b[0m         \u001b[0mprint\u001b[0m\u001b[1;33m(\u001b[0m\u001b[0mi\u001b[0m\u001b[1;33m)\u001b[0m\u001b[1;33m\u001b[0m\u001b[0m\n",
      "\u001b[1;31mTypeError\u001b[0m: 'MetaMessage' object is not iterable"
     ]
    }
   ],
   "source": []
  },
  {
   "cell_type": "code",
   "execution_count": null,
   "metadata": {},
   "outputs": [],
   "source": []
  }
 ],
 "metadata": {
  "kernelspec": {
   "display_name": "Python 3",
   "language": "python",
   "name": "python3"
  },
  "language_info": {
   "codemirror_mode": {
    "name": "ipython",
    "version": 3
   },
   "file_extension": ".py",
   "mimetype": "text/x-python",
   "name": "python",
   "nbconvert_exporter": "python",
   "pygments_lexer": "ipython3",
   "version": "3.5.1"
  }
 },
 "nbformat": 4,
 "nbformat_minor": 2
}
